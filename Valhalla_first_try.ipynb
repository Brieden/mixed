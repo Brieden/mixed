{
 "cells": [
  {
   "cell_type": "code",
   "execution_count": 1,
   "metadata": {},
   "outputs": [],
   "source": [
    "%config Completer.use_jedi = False"
   ]
  },
  {
   "cell_type": "code",
   "execution_count": 2,
   "metadata": {},
   "outputs": [],
   "source": [
    "import pandas as pd\n",
    "import numpy as np\n",
    "import json\n",
    "import requests\n",
    "from pprint import pprint as pprint\n",
    "import polyline\n",
    "import folium"
   ]
  },
  {
   "cell_type": "code",
   "execution_count": 3,
   "metadata": {},
   "outputs": [],
   "source": [
    "host=\"http://tiramisu.hopto.org:2005\""
   ]
  },
  {
   "cell_type": "code",
   "execution_count": 4,
   "metadata": {},
   "outputs": [],
   "source": [
    "Zürich_HB = {'lat': '47.377', 'lon':'8.54'}\n",
    "cividi = {'lat':'47.3835', 'lon':'8.4966'}"
   ]
  },
  {
   "cell_type": "markdown",
   "metadata": {},
   "source": [
    "# Optimized Route service"
   ]
  },
  {
   "cell_type": "code",
   "execution_count": 5,
   "metadata": {},
   "outputs": [],
   "source": [
    "def routing(start, end, host=host, costing='pedestrian'):\n",
    "    headers = {'Content-type': 'application/json'}\n",
    "    data = json.dumps({\"locations\": [start, end], \"costing\": costing})\n",
    "    url = host + '/route'\n",
    "    return requests.post(url=url, data=data, headers=headers)"
   ]
  },
  {
   "cell_type": "code",
   "execution_count": 6,
   "metadata": {},
   "outputs": [
    {
     "name": "stdout",
     "output_type": "stream",
     "text": [
      "Successfully\n"
     ]
    }
   ],
   "source": [
    "start = Zürich_HB\n",
    "end = cividi\n",
    "routing_request = routing(start, end, costing='pedestrian')\n",
    "if routing_request.ok:\n",
    "    routing_result= routing_request.json()\n",
    "    print('Successfully')\n",
    "else: \n",
    "    pprint(routing_request.json())"
   ]
  },
  {
   "cell_type": "code",
   "execution_count": 7,
   "metadata": {},
   "outputs": [
    {
     "name": "stdout",
     "output_type": "stream",
     "text": [
      "that route as 4 km long and took 2903 s\n"
     ]
    }
   ],
   "source": [
    "distance = routing_result['trip']['summary']['length']\n",
    "dwelltime = routing_result['trip']['summary']['time']\n",
    "print('that route as %d km long and took %d s' % (distance, dwelltime))"
   ]
  },
  {
   "cell_type": "code",
   "execution_count": 8,
   "metadata": {},
   "outputs": [],
   "source": [
    "routing_points = polyline.decode(routing_result['trip']['legs'][0]['shape'], precision=6)"
   ]
  },
  {
   "cell_type": "code",
   "execution_count": 9,
   "metadata": {},
   "outputs": [],
   "source": [
    "routing_lats = [result[0] for result in routing_points]\n",
    "routing_lons = [result[1] for result in routing_points]"
   ]
  },
  {
   "cell_type": "code",
   "execution_count": 10,
   "metadata": {},
   "outputs": [
    {
     "data": {
      "text/html": [
       "<div style=\"width:100%;\"><div style=\"position:relative;width:100%;height:0;padding-bottom:60%;\"><span style=\"color:#565656\">Make this Notebook Trusted to load map: File -> Trust Notebook</span><iframe src=\"about:blank\" style=\"position:absolute;width:100%;height:100%;left:0;top:0;border:none !important;\" data-html=%3C%21DOCTYPE%20html%3E%0A%3Chead%3E%20%20%20%20%0A%20%20%20%20%3Cmeta%20http-equiv%3D%22content-type%22%20content%3D%22text/html%3B%20charset%3DUTF-8%22%20/%3E%0A%20%20%20%20%0A%20%20%20%20%20%20%20%20%3Cscript%3E%0A%20%20%20%20%20%20%20%20%20%20%20%20L_NO_TOUCH%20%3D%20false%3B%0A%20%20%20%20%20%20%20%20%20%20%20%20L_DISABLE_3D%20%3D%20false%3B%0A%20%20%20%20%20%20%20%20%3C/script%3E%0A%20%20%20%20%0A%20%20%20%20%3Cstyle%3Ehtml%2C%20body%20%7Bwidth%3A%20100%25%3Bheight%3A%20100%25%3Bmargin%3A%200%3Bpadding%3A%200%3B%7D%3C/style%3E%0A%20%20%20%20%3Cstyle%3E%23map%20%7Bposition%3Aabsolute%3Btop%3A0%3Bbottom%3A0%3Bright%3A0%3Bleft%3A0%3B%7D%3C/style%3E%0A%20%20%20%20%3Cscript%20src%3D%22https%3A//cdn.jsdelivr.net/npm/leaflet%401.6.0/dist/leaflet.js%22%3E%3C/script%3E%0A%20%20%20%20%3Cscript%20src%3D%22https%3A//code.jquery.com/jquery-1.12.4.min.js%22%3E%3C/script%3E%0A%20%20%20%20%3Cscript%20src%3D%22https%3A//maxcdn.bootstrapcdn.com/bootstrap/3.2.0/js/bootstrap.min.js%22%3E%3C/script%3E%0A%20%20%20%20%3Cscript%20src%3D%22https%3A//cdnjs.cloudflare.com/ajax/libs/Leaflet.awesome-markers/2.0.2/leaflet.awesome-markers.js%22%3E%3C/script%3E%0A%20%20%20%20%3Clink%20rel%3D%22stylesheet%22%20href%3D%22https%3A//cdn.jsdelivr.net/npm/leaflet%401.6.0/dist/leaflet.css%22/%3E%0A%20%20%20%20%3Clink%20rel%3D%22stylesheet%22%20href%3D%22https%3A//maxcdn.bootstrapcdn.com/bootstrap/3.2.0/css/bootstrap.min.css%22/%3E%0A%20%20%20%20%3Clink%20rel%3D%22stylesheet%22%20href%3D%22https%3A//maxcdn.bootstrapcdn.com/bootstrap/3.2.0/css/bootstrap-theme.min.css%22/%3E%0A%20%20%20%20%3Clink%20rel%3D%22stylesheet%22%20href%3D%22https%3A//maxcdn.bootstrapcdn.com/font-awesome/4.6.3/css/font-awesome.min.css%22/%3E%0A%20%20%20%20%3Clink%20rel%3D%22stylesheet%22%20href%3D%22https%3A//cdnjs.cloudflare.com/ajax/libs/Leaflet.awesome-markers/2.0.2/leaflet.awesome-markers.css%22/%3E%0A%20%20%20%20%3Clink%20rel%3D%22stylesheet%22%20href%3D%22https%3A//cdn.jsdelivr.net/gh/python-visualization/folium/folium/templates/leaflet.awesome.rotate.min.css%22/%3E%0A%20%20%20%20%0A%20%20%20%20%20%20%20%20%20%20%20%20%3Cmeta%20name%3D%22viewport%22%20content%3D%22width%3Ddevice-width%2C%0A%20%20%20%20%20%20%20%20%20%20%20%20%20%20%20%20initial-scale%3D1.0%2C%20maximum-scale%3D1.0%2C%20user-scalable%3Dno%22%20/%3E%0A%20%20%20%20%20%20%20%20%20%20%20%20%3Cstyle%3E%0A%20%20%20%20%20%20%20%20%20%20%20%20%20%20%20%20%23map_3e99520bc0384637b59d00ca6a64888e%20%7B%0A%20%20%20%20%20%20%20%20%20%20%20%20%20%20%20%20%20%20%20%20position%3A%20relative%3B%0A%20%20%20%20%20%20%20%20%20%20%20%20%20%20%20%20%20%20%20%20width%3A%20100.0%25%3B%0A%20%20%20%20%20%20%20%20%20%20%20%20%20%20%20%20%20%20%20%20height%3A%20100.0%25%3B%0A%20%20%20%20%20%20%20%20%20%20%20%20%20%20%20%20%20%20%20%20left%3A%200.0%25%3B%0A%20%20%20%20%20%20%20%20%20%20%20%20%20%20%20%20%20%20%20%20top%3A%200.0%25%3B%0A%20%20%20%20%20%20%20%20%20%20%20%20%20%20%20%20%7D%0A%20%20%20%20%20%20%20%20%20%20%20%20%3C/style%3E%0A%20%20%20%20%20%20%20%20%0A%3C/head%3E%0A%3Cbody%3E%20%20%20%20%0A%20%20%20%20%0A%20%20%20%20%20%20%20%20%20%20%20%20%3Cdiv%20class%3D%22folium-map%22%20id%3D%22map_3e99520bc0384637b59d00ca6a64888e%22%20%3E%3C/div%3E%0A%20%20%20%20%20%20%20%20%0A%3C/body%3E%0A%3Cscript%3E%20%20%20%20%0A%20%20%20%20%0A%20%20%20%20%20%20%20%20%20%20%20%20var%20map_3e99520bc0384637b59d00ca6a64888e%20%3D%20L.map%28%0A%20%20%20%20%20%20%20%20%20%20%20%20%20%20%20%20%22map_3e99520bc0384637b59d00ca6a64888e%22%2C%0A%20%20%20%20%20%20%20%20%20%20%20%20%20%20%20%20%7B%0A%20%20%20%20%20%20%20%20%20%20%20%20%20%20%20%20%20%20%20%20center%3A%20%5B0%2C%200%5D%2C%0A%20%20%20%20%20%20%20%20%20%20%20%20%20%20%20%20%20%20%20%20crs%3A%20L.CRS.EPSG3857%2C%0A%20%20%20%20%20%20%20%20%20%20%20%20%20%20%20%20%20%20%20%20zoom%3A%201%2C%0A%20%20%20%20%20%20%20%20%20%20%20%20%20%20%20%20%20%20%20%20zoomControl%3A%20true%2C%0A%20%20%20%20%20%20%20%20%20%20%20%20%20%20%20%20%20%20%20%20preferCanvas%3A%20false%2C%0A%20%20%20%20%20%20%20%20%20%20%20%20%20%20%20%20%7D%0A%20%20%20%20%20%20%20%20%20%20%20%20%29%3B%0A%0A%20%20%20%20%20%20%20%20%20%20%20%20%0A%0A%20%20%20%20%20%20%20%20%0A%20%20%20%20%0A%20%20%20%20%20%20%20%20%20%20%20%20var%20tile_layer_6cc1875f88a043b89c083e55022c744c%20%3D%20L.tileLayer%28%0A%20%20%20%20%20%20%20%20%20%20%20%20%20%20%20%20%22https%3A//%7Bs%7D.tile.openstreetmap.org/%7Bz%7D/%7Bx%7D/%7By%7D.png%22%2C%0A%20%20%20%20%20%20%20%20%20%20%20%20%20%20%20%20%7B%22attribution%22%3A%20%22Data%20by%20%5Cu0026copy%3B%20%5Cu003ca%20href%3D%5C%22http%3A//openstreetmap.org%5C%22%5Cu003eOpenStreetMap%5Cu003c/a%5Cu003e%2C%20under%20%5Cu003ca%20href%3D%5C%22http%3A//www.openstreetmap.org/copyright%5C%22%5Cu003eODbL%5Cu003c/a%5Cu003e.%22%2C%20%22detectRetina%22%3A%20false%2C%20%22maxNativeZoom%22%3A%2018%2C%20%22maxZoom%22%3A%2018%2C%20%22minZoom%22%3A%200%2C%20%22noWrap%22%3A%20false%2C%20%22opacity%22%3A%201%2C%20%22subdomains%22%3A%20%22abc%22%2C%20%22tms%22%3A%20false%7D%0A%20%20%20%20%20%20%20%20%20%20%20%20%29.addTo%28map_3e99520bc0384637b59d00ca6a64888e%29%3B%0A%20%20%20%20%20%20%20%20%0A%20%20%20%20%0A%20%20%20%20%20%20%20%20%20%20%20%20var%20poly_line_27a44bed2182484bb1a84f034f6ee10f%20%3D%20L.polyline%28%0A%20%20%20%20%20%20%20%20%20%20%20%20%20%20%20%20%5B%5B47.376944%2C%208.539981%5D%2C%20%5B47.376951%2C%208.539936%5D%2C%20%5B47.376954%2C%208.539906%5D%2C%20%5B47.376993%2C%208.539757%5D%2C%20%5B47.377151%2C%208.539193%5D%2C%20%5B47.377239%2C%208.538871%5D%2C%20%5B47.377259%2C%208.538798%5D%2C%20%5B47.377262%2C%208.538738%5D%2C%20%5B47.377254%2C%208.538688%5D%2C%20%5B47.377239%2C%208.538652%5D%2C%20%5B47.377218%2C%208.538612%5D%2C%20%5B47.377187%2C%208.538565%5D%2C%20%5B47.376997%2C%208.538357%5D%2C%20%5B47.376803%2C%208.538168%5D%2C%20%5B47.376762%2C%208.538126%5D%2C%20%5B47.376461%2C%208.537836%5D%2C%20%5B47.376316%2C%208.537701%5D%2C%20%5B47.376185%2C%208.537623%5D%2C%20%5B47.376145%2C%208.537609%5D%2C%20%5B47.376095%2C%208.537588%5D%2C%20%5B47.376021%2C%208.537562%5D%2C%20%5B47.375964%2C%208.537535%5D%2C%20%5B47.375863%2C%208.537477%5D%2C%20%5B47.375772%2C%208.537401%5D%2C%20%5B47.375733%2C%208.537348%5D%2C%20%5B47.37571%2C%208.537306%5D%2C%20%5B47.375679%2C%208.537236%5D%2C%20%5B47.375663%2C%208.537148%5D%2C%20%5B47.375628%2C%208.537064%5D%2C%20%5B47.375642%2C%208.537025%5D%2C%20%5B47.375697%2C%208.536876%5D%2C%20%5B47.37574%2C%208.536753%5D%2C%20%5B47.375913%2C%208.536015%5D%2C%20%5B47.375915%2C%208.536008%5D%2C%20%5B47.37597%2C%208.535802%5D%2C%20%5B47.375978%2C%208.535773%5D%2C%20%5B47.375981%2C%208.535743%5D%2C%20%5B47.375978%2C%208.535721%5D%2C%20%5B47.376001%2C%208.535663%5D%2C%20%5B47.376037%2C%208.535569%5D%2C%20%5B47.376077%2C%208.535528%5D%2C%20%5B47.376134%2C%208.535407%5D%2C%20%5B47.376365%2C%208.534924%5D%2C%20%5B47.376366%2C%208.534885%5D%2C%20%5B47.376362%2C%208.534834%5D%2C%20%5B47.376321%2C%208.534766%5D%2C%20%5B47.375844%2C%208.53409%5D%2C%20%5B47.375676%2C%208.533869%5D%2C%20%5B47.375552%2C%208.533702%5D%2C%20%5B47.375294%2C%208.533421%5D%2C%20%5B47.375259%2C%208.533306%5D%2C%20%5B47.374786%2C%208.53281%5D%2C%20%5B47.374606%2C%208.532647%5D%2C%20%5B47.374553%2C%208.532601%5D%2C%20%5B47.374222%2C%208.532372%5D%2C%20%5B47.373851%2C%208.532116%5D%2C%20%5B47.373748%2C%208.532044%5D%2C%20%5B47.373728%2C%208.53205%5D%2C%20%5B47.373512%2C%208.531917%5D%2C%20%5B47.373476%2C%208.531908%5D%2C%20%5B47.373493%2C%208.531845%5D%2C%20%5B47.373498%2C%208.531825%5D%2C%20%5B47.373518%2C%208.53175%5D%2C%20%5B47.373528%2C%208.531711%5D%2C%20%5B47.373533%2C%208.531693%5D%2C%20%5B47.373541%2C%208.531665%5D%2C%20%5B47.373552%2C%208.531623%5D%2C%20%5B47.37348%2C%208.531571%5D%2C%20%5B47.373464%2C%208.531553%5D%2C%20%5B47.373458%2C%208.531527%5D%2C%20%5B47.373457%2C%208.531492%5D%2C%20%5B47.373467%2C%208.531418%5D%2C%20%5B47.373403%2C%208.531385%5D%2C%20%5B47.37342%2C%208.531312%5D%2C%20%5B47.373561%2C%208.530718%5D%2C%20%5B47.373606%2C%208.530544%5D%2C%20%5B47.373614%2C%208.530476%5D%2C%20%5B47.373618%2C%208.530394%5D%2C%20%5B47.373617%2C%208.530245%5D%2C%20%5B47.373606%2C%208.530083%5D%2C%20%5B47.373587%2C%208.529884%5D%2C%20%5B47.373544%2C%208.529632%5D%2C%20%5B47.373469%2C%208.529252%5D%2C%20%5B47.37345%2C%208.52916%5D%2C%20%5B47.373441%2C%208.529114%5D%2C%20%5B47.373423%2C%208.529023%5D%2C%20%5B47.373393%2C%208.52887%5D%2C%20%5B47.373314%2C%208.528499%5D%2C%20%5B47.373255%2C%208.528267%5D%2C%20%5B47.373229%2C%208.528149%5D%2C%20%5B47.373202%2C%208.527983%5D%2C%20%5B47.373322%2C%208.527779%5D%2C%20%5B47.373362%2C%208.527664%5D%2C%20%5B47.373384%2C%208.527601%5D%2C%20%5B47.373578%2C%208.527037%5D%2C%20%5B47.373844%2C%208.526269%5D%2C%20%5B47.373846%2C%208.526144%5D%2C%20%5B47.373901%2C%208.525959%5D%2C%20%5B47.374006%2C%208.525645%5D%2C%20%5B47.374158%2C%208.525194%5D%2C%20%5B47.374206%2C%208.524989%5D%2C%20%5B47.374208%2C%208.524918%5D%2C%20%5B47.37421%2C%208.524839%5D%2C%20%5B47.37422%2C%208.524353%5D%2C%20%5B47.374228%2C%208.524156%5D%2C%20%5B47.374239%2C%208.523968%5D%2C%20%5B47.374251%2C%208.523855%5D%2C%20%5B47.374302%2C%208.52375%5D%2C%20%5B47.374316%2C%208.523349%5D%2C%20%5B47.374322%2C%208.523157%5D%2C%20%5B47.37434%2C%208.522654%5D%2C%20%5B47.374355%2C%208.52226%5D%2C%20%5B47.374359%2C%208.522166%5D%2C%20%5B47.374322%2C%208.522012%5D%2C%20%5B47.374339%2C%208.521902%5D%2C%20%5B47.374374%2C%208.521715%5D%2C%20%5B47.374422%2C%208.521527%5D%2C%20%5B47.374466%2C%208.521373%5D%2C%20%5B47.374481%2C%208.521312%5D%2C%20%5B47.374499%2C%208.521232%5D%2C%20%5B47.374625%2C%208.520695%5D%2C%20%5B47.374672%2C%208.520537%5D%2C%20%5B47.374723%2C%208.520435%5D%2C%20%5B47.374784%2C%208.520178%5D%2C%20%5B47.374936%2C%208.519519%5D%2C%20%5B47.374975%2C%208.519353%5D%2C%20%5B47.374985%2C%208.519321%5D%2C%20%5B47.375017%2C%208.519195%5D%2C%20%5B47.375082%2C%208.518911%5D%2C%20%5B47.375106%2C%208.518819%5D%2C%20%5B47.375148%2C%208.518647%5D%2C%20%5B47.375148%2C%208.518603%5D%2C%20%5B47.37515%2C%208.518504%5D%2C%20%5B47.375258%2C%208.518003%5D%2C%20%5B47.375295%2C%208.517832%5D%2C%20%5B47.375457%2C%208.517175%5D%2C%20%5B47.37551%2C%208.516926%5D%2C%20%5B47.375552%2C%208.51668%5D%2C%20%5B47.375581%2C%208.516562%5D%2C%20%5B47.375622%2C%208.516409%5D%2C%20%5B47.375672%2C%208.516255%5D%2C%20%5B47.375833%2C%208.515756%5D%2C%20%5B47.375902%2C%208.515574%5D%2C%20%5B47.376065%2C%208.515146%5D%2C%20%5B47.376169%2C%208.514917%5D%2C%20%5B47.376548%2C%208.514092%5D%2C%20%5B47.376577%2C%208.514035%5D%2C%20%5B47.376723%2C%208.513741%5D%2C%20%5B47.376809%2C%208.513567%5D%2C%20%5B47.377153%2C%208.512877%5D%2C%20%5B47.377245%2C%208.512674%5D%2C%20%5B47.377316%2C%208.5125%5D%2C%20%5B47.377685%2C%208.511586%5D%2C%20%5B47.377885%2C%208.511083%5D%2C%20%5B47.378039%2C%208.510694%5D%2C%20%5B47.378009%2C%208.510658%5D%2C%20%5B47.377978%2C%208.510316%5D%2C%20%5B47.378003%2C%208.510105%5D%2C%20%5B47.378069%2C%208.509961%5D%2C%20%5B47.378098%2C%208.509903%5D%2C%20%5B47.378112%2C%208.509861%5D%2C%20%5B47.37812%2C%208.509815%5D%2C%20%5B47.378164%2C%208.509805%5D%2C%20%5B47.378209%2C%208.509795%5D%2C%20%5B47.378252%2C%208.509786%5D%2C%20%5B47.378266%2C%208.50976%5D%2C%20%5B47.378307%2C%208.50969%5D%2C%20%5B47.378339%2C%208.509699%5D%2C%20%5B47.378377%2C%208.509698%5D%2C%20%5B47.378411%2C%208.509658%5D%2C%20%5B47.378468%2C%208.50959%5D%2C%20%5B47.378503%2C%208.509534%5D%2C%20%5B47.378887%2C%208.508692%5D%2C%20%5B47.379167%2C%208.50808%5D%2C%20%5B47.37965%2C%208.507014%5D%2C%20%5B47.379749%2C%208.5068%5D%2C%20%5B47.379805%2C%208.506685%5D%2C%20%5B47.379833%2C%208.50663%5D%2C%20%5B47.380086%2C%208.506044%5D%2C%20%5B47.380164%2C%208.505855%5D%2C%20%5B47.380354%2C%208.505434%5D%2C%20%5B47.380372%2C%208.505393%5D%2C%20%5B47.380575%2C%208.504915%5D%2C%20%5B47.380869%2C%208.50425%5D%2C%20%5B47.380892%2C%208.504188%5D%2C%20%5B47.380906%2C%208.504106%5D%2C%20%5B47.380923%2C%208.503858%5D%2C%20%5B47.380928%2C%208.503766%5D%2C%20%5B47.380942%2C%208.503563%5D%2C%20%5B47.380958%2C%208.503478%5D%2C%20%5B47.381006%2C%208.503328%5D%2C%20%5B47.381024%2C%208.503273%5D%2C%20%5B47.381103%2C%208.503228%5D%2C%20%5B47.381221%2C%208.50316%5D%2C%20%5B47.381252%2C%208.503142%5D%2C%20%5B47.381322%2C%208.503112%5D%2C%20%5B47.381378%2C%208.50307%5D%2C%20%5B47.381398%2C%208.503038%5D%2C%20%5B47.381643%2C%208.502526%5D%2C%20%5B47.381922%2C%208.501957%5D%2C%20%5B47.382107%2C%208.501599%5D%2C%20%5B47.382397%2C%208.500987%5D%2C%20%5B47.382667%2C%208.500418%5D%2C%20%5B47.382833%2C%208.500069%5D%2C%20%5B47.382891%2C%208.499927%5D%2C%20%5B47.38292%2C%208.499854%5D%2C%20%5B47.382947%2C%208.499785%5D%2C%20%5B47.382986%2C%208.4997%5D%2C%20%5B47.383174%2C%208.499311%5D%2C%20%5B47.38325%2C%208.499147%5D%2C%20%5B47.383307%2C%208.499023%5D%2C%20%5B47.383388%2C%208.498872%5D%2C%20%5B47.383494%2C%208.498688%5D%2C%20%5B47.383561%2C%208.498574%5D%2C%20%5B47.38364%2C%208.498427%5D%2C%20%5B47.383785%2C%208.498123%5D%2C%20%5B47.383509%2C%208.497831%5D%2C%20%5B47.38388%2C%208.497078%5D%2C%20%5B47.383813%2C%208.497011%5D%2C%20%5B47.383495%2C%208.496695%5D%2C%20%5B47.383469%2C%208.496671%5D%5D%2C%0A%20%20%20%20%20%20%20%20%20%20%20%20%20%20%20%20%7B%22bubblingMouseEvents%22%3A%20true%2C%20%22color%22%3A%20%22%233388ff%22%2C%20%22dashArray%22%3A%20null%2C%20%22dashOffset%22%3A%20null%2C%20%22fill%22%3A%20false%2C%20%22fillColor%22%3A%20%22%233388ff%22%2C%20%22fillOpacity%22%3A%200.2%2C%20%22fillRule%22%3A%20%22evenodd%22%2C%20%22lineCap%22%3A%20%22round%22%2C%20%22lineJoin%22%3A%20%22round%22%2C%20%22noClip%22%3A%20false%2C%20%22opacity%22%3A%201.0%2C%20%22smoothFactor%22%3A%201.0%2C%20%22stroke%22%3A%20true%2C%20%22weight%22%3A%203%7D%0A%20%20%20%20%20%20%20%20%20%20%20%20%29.addTo%28map_3e99520bc0384637b59d00ca6a64888e%29%3B%0A%20%20%20%20%20%20%20%20%0A%20%20%20%20%0A%20%20%20%20%20%20%20%20%20%20%20%20var%20marker_4b30691d00694cf5a12f3f571619778f%20%3D%20L.marker%28%0A%20%20%20%20%20%20%20%20%20%20%20%20%20%20%20%20%5B47.377%2C%208.54%5D%2C%0A%20%20%20%20%20%20%20%20%20%20%20%20%20%20%20%20%7B%7D%0A%20%20%20%20%20%20%20%20%20%20%20%20%29.addTo%28map_3e99520bc0384637b59d00ca6a64888e%29%3B%0A%20%20%20%20%20%20%20%20%0A%20%20%20%20%0A%20%20%20%20%20%20%20%20%20%20%20%20var%20icon_7d12f6b87dd44b34bc74f2e7f237feb5%20%3D%20L.AwesomeMarkers.icon%28%0A%20%20%20%20%20%20%20%20%20%20%20%20%20%20%20%20%7B%22extraClasses%22%3A%20%22fa-rotate-0%22%2C%20%22icon%22%3A%20%22play%22%2C%20%22iconColor%22%3A%20%22white%22%2C%20%22markerColor%22%3A%20%22blue%22%2C%20%22prefix%22%3A%20%22glyphicon%22%7D%0A%20%20%20%20%20%20%20%20%20%20%20%20%29%3B%0A%20%20%20%20%20%20%20%20%20%20%20%20marker_4b30691d00694cf5a12f3f571619778f.setIcon%28icon_7d12f6b87dd44b34bc74f2e7f237feb5%29%3B%0A%20%20%20%20%20%20%20%20%0A%20%20%20%20%0A%20%20%20%20%20%20%20%20%20%20%20%20var%20marker_0d7b2b4d82fd4754b0767bc5620f732d%20%3D%20L.marker%28%0A%20%20%20%20%20%20%20%20%20%20%20%20%20%20%20%20%5B47.3835%2C%208.4966%5D%2C%0A%20%20%20%20%20%20%20%20%20%20%20%20%20%20%20%20%7B%7D%0A%20%20%20%20%20%20%20%20%20%20%20%20%29.addTo%28map_3e99520bc0384637b59d00ca6a64888e%29%3B%0A%20%20%20%20%20%20%20%20%0A%20%20%20%20%0A%20%20%20%20%20%20%20%20%20%20%20%20var%20icon_8efeb3dc2dab4b9293b742ff691f1d7d%20%3D%20L.AwesomeMarkers.icon%28%0A%20%20%20%20%20%20%20%20%20%20%20%20%20%20%20%20%7B%22extraClasses%22%3A%20%22fa-rotate-0%22%2C%20%22icon%22%3A%20%22stop%22%2C%20%22iconColor%22%3A%20%22white%22%2C%20%22markerColor%22%3A%20%22blue%22%2C%20%22prefix%22%3A%20%22glyphicon%22%7D%0A%20%20%20%20%20%20%20%20%20%20%20%20%29%3B%0A%20%20%20%20%20%20%20%20%20%20%20%20marker_0d7b2b4d82fd4754b0767bc5620f732d.setIcon%28icon_8efeb3dc2dab4b9293b742ff691f1d7d%29%3B%0A%20%20%20%20%20%20%20%20%0A%20%20%20%20%0A%20%20%20%20%20%20%20%20%20%20%20%20map_3e99520bc0384637b59d00ca6a64888e.fitBounds%28%0A%20%20%20%20%20%20%20%20%20%20%20%20%20%20%20%20%5B%5B47.373202%2C%208.496671%5D%2C%20%5B47.38388%2C%208.539981%5D%5D%2C%0A%20%20%20%20%20%20%20%20%20%20%20%20%20%20%20%20%7B%7D%0A%20%20%20%20%20%20%20%20%20%20%20%20%29%3B%0A%20%20%20%20%20%20%20%20%0A%3C/script%3E onload=\"this.contentDocument.open();this.contentDocument.write(    decodeURIComponent(this.getAttribute('data-html')));this.contentDocument.close();\" allowfullscreen webkitallowfullscreen mozallowfullscreen></iframe></div></div>"
      ],
      "text/plain": [
       "<folium.folium.Map at 0x7f953476a6a0>"
      ]
     },
     "execution_count": 10,
     "metadata": {},
     "output_type": "execute_result"
    }
   ],
   "source": [
    "m = folium.Map()\n",
    "folium.PolyLine(routing_points).add_to(m)\n",
    "folium.Marker((start['lat'], start['lon']),icon=folium.Icon(icon=\"play\")).add_to(m)\n",
    "folium.Marker((end['lat'], end['lon']),icon=folium.Icon(icon=\"stop\")).add_to(m)\n",
    "m.fit_bounds([[min(routing_lats), min(routing_lons)],[max(routing_lats), max(routing_lons)]])\n",
    "m"
   ]
  },
  {
   "cell_type": "markdown",
   "metadata": {},
   "source": [
    "![title](https://github.com/Brieden/trash/raw/main/m1.png)"
   ]
  },
  {
   "cell_type": "markdown",
   "metadata": {},
   "source": [
    "# Isochrone & Isodistance service"
   ]
  },
  {
   "cell_type": "code",
   "execution_count": 11,
   "metadata": {},
   "outputs": [],
   "source": [
    "def isochrone(start, host=host, costing='pedestrian'):\n",
    "    headers = {'Content-type': 'application/json'}\n",
    "    data = json.dumps({\n",
    "        \"locations\": [start],\n",
    "        \"costing\": costing,\n",
    "        \"contours\": [{\n",
    "            \"time\": 10,\n",
    "            \"color\": \"fc0000\"\n",
    "        }],\n",
    "        \"polygons\": True\n",
    "\n",
    "    })\n",
    "    url = host + '/isochrone'\n",
    "    return requests.post(url=url, data=data, headers=headers)"
   ]
  },
  {
   "cell_type": "code",
   "execution_count": 12,
   "metadata": {},
   "outputs": [
    {
     "name": "stdout",
     "output_type": "stream",
     "text": [
      "Successfully\n"
     ]
    }
   ],
   "source": [
    "start = cividi\n",
    "isochrone_request = isochrone(start,costing='pedestrian')\n",
    "if isochrone_request.ok:\n",
    "    isochrone_result= isochrone_request.json()\n",
    "    print('Successfully')\n",
    "else: \n",
    "    pprint(isochrone_request.json())"
   ]
  },
  {
   "cell_type": "code",
   "execution_count": 13,
   "metadata": {},
   "outputs": [],
   "source": [
    "isochrone_lons = [result[0] for result in isochrone_result['features'][0]['geometry']['coordinates'][0]]\n",
    "isochrone_lats = [result[1] for result in isochrone_result['features'][0]['geometry']['coordinates'][0]]"
   ]
  },
  {
   "cell_type": "code",
   "execution_count": 14,
   "metadata": {},
   "outputs": [
    {
     "data": {
      "text/html": [
       "<div style=\"width:100%;\"><div style=\"position:relative;width:100%;height:0;padding-bottom:60%;\"><span style=\"color:#565656\">Make this Notebook Trusted to load map: File -> Trust Notebook</span><iframe src=\"about:blank\" style=\"position:absolute;width:100%;height:100%;left:0;top:0;border:none !important;\" data-html=%3C%21DOCTYPE%20html%3E%0A%3Chead%3E%20%20%20%20%0A%20%20%20%20%3Cmeta%20http-equiv%3D%22content-type%22%20content%3D%22text/html%3B%20charset%3DUTF-8%22%20/%3E%0A%20%20%20%20%0A%20%20%20%20%20%20%20%20%3Cscript%3E%0A%20%20%20%20%20%20%20%20%20%20%20%20L_NO_TOUCH%20%3D%20false%3B%0A%20%20%20%20%20%20%20%20%20%20%20%20L_DISABLE_3D%20%3D%20false%3B%0A%20%20%20%20%20%20%20%20%3C/script%3E%0A%20%20%20%20%0A%20%20%20%20%3Cstyle%3Ehtml%2C%20body%20%7Bwidth%3A%20100%25%3Bheight%3A%20100%25%3Bmargin%3A%200%3Bpadding%3A%200%3B%7D%3C/style%3E%0A%20%20%20%20%3Cstyle%3E%23map%20%7Bposition%3Aabsolute%3Btop%3A0%3Bbottom%3A0%3Bright%3A0%3Bleft%3A0%3B%7D%3C/style%3E%0A%20%20%20%20%3Cscript%20src%3D%22https%3A//cdn.jsdelivr.net/npm/leaflet%401.6.0/dist/leaflet.js%22%3E%3C/script%3E%0A%20%20%20%20%3Cscript%20src%3D%22https%3A//code.jquery.com/jquery-1.12.4.min.js%22%3E%3C/script%3E%0A%20%20%20%20%3Cscript%20src%3D%22https%3A//maxcdn.bootstrapcdn.com/bootstrap/3.2.0/js/bootstrap.min.js%22%3E%3C/script%3E%0A%20%20%20%20%3Cscript%20src%3D%22https%3A//cdnjs.cloudflare.com/ajax/libs/Leaflet.awesome-markers/2.0.2/leaflet.awesome-markers.js%22%3E%3C/script%3E%0A%20%20%20%20%3Clink%20rel%3D%22stylesheet%22%20href%3D%22https%3A//cdn.jsdelivr.net/npm/leaflet%401.6.0/dist/leaflet.css%22/%3E%0A%20%20%20%20%3Clink%20rel%3D%22stylesheet%22%20href%3D%22https%3A//maxcdn.bootstrapcdn.com/bootstrap/3.2.0/css/bootstrap.min.css%22/%3E%0A%20%20%20%20%3Clink%20rel%3D%22stylesheet%22%20href%3D%22https%3A//maxcdn.bootstrapcdn.com/bootstrap/3.2.0/css/bootstrap-theme.min.css%22/%3E%0A%20%20%20%20%3Clink%20rel%3D%22stylesheet%22%20href%3D%22https%3A//maxcdn.bootstrapcdn.com/font-awesome/4.6.3/css/font-awesome.min.css%22/%3E%0A%20%20%20%20%3Clink%20rel%3D%22stylesheet%22%20href%3D%22https%3A//cdnjs.cloudflare.com/ajax/libs/Leaflet.awesome-markers/2.0.2/leaflet.awesome-markers.css%22/%3E%0A%20%20%20%20%3Clink%20rel%3D%22stylesheet%22%20href%3D%22https%3A//cdn.jsdelivr.net/gh/python-visualization/folium/folium/templates/leaflet.awesome.rotate.min.css%22/%3E%0A%20%20%20%20%0A%20%20%20%20%20%20%20%20%20%20%20%20%3Cmeta%20name%3D%22viewport%22%20content%3D%22width%3Ddevice-width%2C%0A%20%20%20%20%20%20%20%20%20%20%20%20%20%20%20%20initial-scale%3D1.0%2C%20maximum-scale%3D1.0%2C%20user-scalable%3Dno%22%20/%3E%0A%20%20%20%20%20%20%20%20%20%20%20%20%3Cstyle%3E%0A%20%20%20%20%20%20%20%20%20%20%20%20%20%20%20%20%23map_c696a46f07c949ce8908d31e2eaf01b2%20%7B%0A%20%20%20%20%20%20%20%20%20%20%20%20%20%20%20%20%20%20%20%20position%3A%20relative%3B%0A%20%20%20%20%20%20%20%20%20%20%20%20%20%20%20%20%20%20%20%20width%3A%20100.0%25%3B%0A%20%20%20%20%20%20%20%20%20%20%20%20%20%20%20%20%20%20%20%20height%3A%20100.0%25%3B%0A%20%20%20%20%20%20%20%20%20%20%20%20%20%20%20%20%20%20%20%20left%3A%200.0%25%3B%0A%20%20%20%20%20%20%20%20%20%20%20%20%20%20%20%20%20%20%20%20top%3A%200.0%25%3B%0A%20%20%20%20%20%20%20%20%20%20%20%20%20%20%20%20%7D%0A%20%20%20%20%20%20%20%20%20%20%20%20%3C/style%3E%0A%20%20%20%20%20%20%20%20%0A%3C/head%3E%0A%3Cbody%3E%20%20%20%20%0A%20%20%20%20%0A%20%20%20%20%20%20%20%20%20%20%20%20%3Cdiv%20class%3D%22folium-map%22%20id%3D%22map_c696a46f07c949ce8908d31e2eaf01b2%22%20%3E%3C/div%3E%0A%20%20%20%20%20%20%20%20%0A%3C/body%3E%0A%3Cscript%3E%20%20%20%20%0A%20%20%20%20%0A%20%20%20%20%20%20%20%20%20%20%20%20var%20map_c696a46f07c949ce8908d31e2eaf01b2%20%3D%20L.map%28%0A%20%20%20%20%20%20%20%20%20%20%20%20%20%20%20%20%22map_c696a46f07c949ce8908d31e2eaf01b2%22%2C%0A%20%20%20%20%20%20%20%20%20%20%20%20%20%20%20%20%7B%0A%20%20%20%20%20%20%20%20%20%20%20%20%20%20%20%20%20%20%20%20center%3A%20%5B0%2C%200%5D%2C%0A%20%20%20%20%20%20%20%20%20%20%20%20%20%20%20%20%20%20%20%20crs%3A%20L.CRS.EPSG3857%2C%0A%20%20%20%20%20%20%20%20%20%20%20%20%20%20%20%20%20%20%20%20zoom%3A%201%2C%0A%20%20%20%20%20%20%20%20%20%20%20%20%20%20%20%20%20%20%20%20zoomControl%3A%20true%2C%0A%20%20%20%20%20%20%20%20%20%20%20%20%20%20%20%20%20%20%20%20preferCanvas%3A%20false%2C%0A%20%20%20%20%20%20%20%20%20%20%20%20%20%20%20%20%7D%0A%20%20%20%20%20%20%20%20%20%20%20%20%29%3B%0A%0A%20%20%20%20%20%20%20%20%20%20%20%20%0A%0A%20%20%20%20%20%20%20%20%0A%20%20%20%20%0A%20%20%20%20%20%20%20%20%20%20%20%20var%20tile_layer_90d580ea15f84a609e9997be2f456881%20%3D%20L.tileLayer%28%0A%20%20%20%20%20%20%20%20%20%20%20%20%20%20%20%20%22https%3A//%7Bs%7D.tile.openstreetmap.org/%7Bz%7D/%7Bx%7D/%7By%7D.png%22%2C%0A%20%20%20%20%20%20%20%20%20%20%20%20%20%20%20%20%7B%22attribution%22%3A%20%22Data%20by%20%5Cu0026copy%3B%20%5Cu003ca%20href%3D%5C%22http%3A//openstreetmap.org%5C%22%5Cu003eOpenStreetMap%5Cu003c/a%5Cu003e%2C%20under%20%5Cu003ca%20href%3D%5C%22http%3A//www.openstreetmap.org/copyright%5C%22%5Cu003eODbL%5Cu003c/a%5Cu003e.%22%2C%20%22detectRetina%22%3A%20false%2C%20%22maxNativeZoom%22%3A%2018%2C%20%22maxZoom%22%3A%2018%2C%20%22minZoom%22%3A%200%2C%20%22noWrap%22%3A%20false%2C%20%22opacity%22%3A%201%2C%20%22subdomains%22%3A%20%22abc%22%2C%20%22tms%22%3A%20false%7D%0A%20%20%20%20%20%20%20%20%20%20%20%20%29.addTo%28map_c696a46f07c949ce8908d31e2eaf01b2%29%3B%0A%20%20%20%20%20%20%20%20%0A%20%20%20%20%0A%0A%20%20%20%20%20%20%20%20function%20geo_json_d6cdd0ba711448128a7b14309d4ac8d8_onEachFeature%28feature%2C%20layer%29%20%7B%0A%20%20%20%20%20%20%20%20%20%20%20%20layer.on%28%7B%0A%20%20%20%20%20%20%20%20%20%20%20%20%7D%29%3B%0A%20%20%20%20%20%20%20%20%7D%3B%0A%20%20%20%20%20%20%20%20var%20geo_json_d6cdd0ba711448128a7b14309d4ac8d8%20%3D%20L.geoJson%28null%2C%20%7B%0A%20%20%20%20%20%20%20%20%20%20%20%20%20%20%20%20onEachFeature%3A%20geo_json_d6cdd0ba711448128a7b14309d4ac8d8_onEachFeature%2C%0A%20%20%20%20%20%20%20%20%20%20%20%20%0A%20%20%20%20%20%20%20%20%7D%29%3B%0A%0A%20%20%20%20%20%20%20%20function%20geo_json_d6cdd0ba711448128a7b14309d4ac8d8_add%20%28data%29%20%7B%0A%20%20%20%20%20%20%20%20%20%20%20%20geo_json_d6cdd0ba711448128a7b14309d4ac8d8%0A%20%20%20%20%20%20%20%20%20%20%20%20%20%20%20%20.addData%28data%29%0A%20%20%20%20%20%20%20%20%20%20%20%20%20%20%20%20.addTo%28map_c696a46f07c949ce8908d31e2eaf01b2%29%3B%0A%20%20%20%20%20%20%20%20%7D%0A%20%20%20%20%20%20%20%20%20%20%20%20geo_json_d6cdd0ba711448128a7b14309d4ac8d8_add%28%7B%22features%22%3A%20%5B%7B%22geometry%22%3A%20%7B%22coordinates%22%3A%20%5B%5B%5B8.497764%2C%2047.389664%5D%2C%20%5B8.4966%2C%2047.3891%5D%2C%20%5B8.4946%2C%2047.389029%5D%2C%20%5B8.4926%2C%2047.38836%5D%2C%20%5B8.490584%2C%2047.388516%5D%2C%20%5B8.488464%2C%2047.3875%5D%2C%20%5B8.488515%2C%2047.3865%5D%2C%20%5B8.4896%2C%2047.384955%5D%2C%20%5B8.4906%2C%2047.385274%5D%2C%20%5B8.491094%2C%2047.3845%5D%2C%20%5B8.491016%2C%2047.383084%5D%2C%20%5B8.488313%2C%2047.3825%5D%2C%20%5B8.4886%2C%2047.381229%5D%2C%20%5B8.4896%2C%2047.379265%5D%2C%20%5B8.4906%2C%2047.37904%5D%2C%20%5B8.491645%2C%2047.379545%5D%2C%20%5B8.4926%2C%2047.377381%5D%2C%20%5B8.498196%2C%2047.3775%5D%2C%20%5B8.4996%2C%2047.378406%5D%2C%20%5B8.502314%2C%2047.378786%5D%2C%20%5B8.5026%2C%2047.379502%5D%2C%20%5B8.505755%2C%2047.3805%5D%2C%20%5B8.504783%2C%2047.3855%5D%2C%20%5B8.503915%2C%2047.386815%5D%2C%20%5B8.5016%2C%2047.387921%5D%2C%20%5B8.499412%2C%2047.388312%5D%2C%20%5B8.497764%2C%2047.389664%5D%5D%5D%2C%20%22type%22%3A%20%22Polygon%22%7D%2C%20%22properties%22%3A%20%7B%22color%22%3A%20%22%23fc0000%22%2C%20%22contour%22%3A%2010%2C%20%22fill%22%3A%20%22%23fc0000%22%2C%20%22fill-opacity%22%3A%200.33%2C%20%22fillColor%22%3A%20%22%23fc0000%22%2C%20%22fillOpacity%22%3A%200.33%2C%20%22metric%22%3A%20%22time%22%2C%20%22opacity%22%3A%200.33%7D%2C%20%22type%22%3A%20%22Feature%22%7D%5D%2C%20%22type%22%3A%20%22FeatureCollection%22%7D%29%3B%0A%0A%20%20%20%20%20%20%20%20%0A%20%20%20%20%0A%20%20%20%20%20%20%20%20%20%20%20%20var%20marker_4fc3ea15952044ec9083cfd798d2da7e%20%3D%20L.marker%28%0A%20%20%20%20%20%20%20%20%20%20%20%20%20%20%20%20%5B47.3835%2C%208.4966%5D%2C%0A%20%20%20%20%20%20%20%20%20%20%20%20%20%20%20%20%7B%7D%0A%20%20%20%20%20%20%20%20%20%20%20%20%29.addTo%28map_c696a46f07c949ce8908d31e2eaf01b2%29%3B%0A%20%20%20%20%20%20%20%20%0A%20%20%20%20%0A%20%20%20%20%20%20%20%20%20%20%20%20var%20icon_b3bcb39be2b644af925367a0ec513413%20%3D%20L.AwesomeMarkers.icon%28%0A%20%20%20%20%20%20%20%20%20%20%20%20%20%20%20%20%7B%22extraClasses%22%3A%20%22fa-rotate-0%22%2C%20%22icon%22%3A%20%22play%22%2C%20%22iconColor%22%3A%20%22white%22%2C%20%22markerColor%22%3A%20%22blue%22%2C%20%22prefix%22%3A%20%22glyphicon%22%7D%0A%20%20%20%20%20%20%20%20%20%20%20%20%29%3B%0A%20%20%20%20%20%20%20%20%20%20%20%20marker_4fc3ea15952044ec9083cfd798d2da7e.setIcon%28icon_b3bcb39be2b644af925367a0ec513413%29%3B%0A%20%20%20%20%20%20%20%20%0A%20%20%20%20%0A%20%20%20%20%20%20%20%20%20%20%20%20map_c696a46f07c949ce8908d31e2eaf01b2.fitBounds%28%0A%20%20%20%20%20%20%20%20%20%20%20%20%20%20%20%20%5B%5B47.377381%2C%208.488313%5D%2C%20%5B47.389664%2C%208.505755%5D%5D%2C%0A%20%20%20%20%20%20%20%20%20%20%20%20%20%20%20%20%7B%7D%0A%20%20%20%20%20%20%20%20%20%20%20%20%29%3B%0A%20%20%20%20%20%20%20%20%0A%3C/script%3E onload=\"this.contentDocument.open();this.contentDocument.write(    decodeURIComponent(this.getAttribute('data-html')));this.contentDocument.close();\" allowfullscreen webkitallowfullscreen mozallowfullscreen></iframe></div></div>"
      ],
      "text/plain": [
       "<folium.folium.Map at 0x7f95347552b0>"
      ]
     },
     "execution_count": 14,
     "metadata": {},
     "output_type": "execute_result"
    }
   ],
   "source": [
    "m = folium.Map()\n",
    "folium.GeoJson(isochrone_result).add_to(m)\n",
    "folium.Marker(location=(start['lat'], start['lon']),icon=folium.Icon(icon=\"play\")).add_to(m)\n",
    "m.fit_bounds([[min(isochrone_lats), min(isochrone_lons)],[max(isochrone_lats), max(isochrone_lons)]])\n",
    "m"
   ]
  },
  {
   "cell_type": "markdown",
   "metadata": {},
   "source": [
    "![title](https://github.com/Brieden/trash/raw/main/m2.png)"
   ]
  },
  {
   "cell_type": "code",
   "execution_count": null,
   "metadata": {},
   "outputs": [],
   "source": []
  }
 ],
 "metadata": {
  "kernelspec": {
   "display_name": "Python 3",
   "language": "python",
   "name": "python3"
  },
  "language_info": {
   "codemirror_mode": {
    "name": "ipython",
    "version": 3
   },
   "file_extension": ".py",
   "mimetype": "text/x-python",
   "name": "python",
   "nbconvert_exporter": "python",
   "pygments_lexer": "ipython3",
   "version": "3.8.6"
  }
 },
 "nbformat": 4,
 "nbformat_minor": 4
}
